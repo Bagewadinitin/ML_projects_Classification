{
 "cells": [
  {
   "cell_type": "markdown",
   "id": "656a4000",
   "metadata": {},
   "source": [
    "### 1. Introduction of dataset\n",
    "#### Telco Customer Churn: Focused customer retention programs\n",
    "##### The churn rate, also known as the rate of attrition or customer churn, is the rate at which customers stop doing business with an entity. It is most commonly expressed as the percentage of service subscribers who discontinue their subscriptions within a given time period.\n",
    "\n",
    "#### *Context\n",
    "##### \"Predict behavior to retain customers. Our goal is to analyze all relevant customer data and develop focused customer retention programs.\"\n",
    "\n",
    "#### *Content: The data set includes information about:\n",
    "\n",
    "##### Customers who left within the last month – the column is called Churn\n",
    "##### Services that each customer has signed up for – phone, multiple lines, internet, online security, online backup, device protection, tech support, and streaming TV and movies\n",
    "##### Customer account information – how long they’ve been a customer, contract, payment method, paperless billing, monthly charges, and total charges.\n",
    "##### Demographic info about customers – gender, age range, and if they have partners and dependents"
   ]
  },
  {
   "cell_type": "code",
   "execution_count": 1,
   "id": "95c9c68a",
   "metadata": {},
   "outputs": [],
   "source": [
    "# import required libraries\n",
    "import pandas as pd\n",
    "import os\n",
    "import numpy as np\n",
    "import matplotlib.pyplot as plt\n",
    "import seaborn as sns"
   ]
  },
  {
   "cell_type": "code",
   "execution_count": 2,
   "id": "920e0011",
   "metadata": {},
   "outputs": [
    {
     "data": {
      "text/html": [
       "<div>\n",
       "<style scoped>\n",
       "    .dataframe tbody tr th:only-of-type {\n",
       "        vertical-align: middle;\n",
       "    }\n",
       "\n",
       "    .dataframe tbody tr th {\n",
       "        vertical-align: top;\n",
       "    }\n",
       "\n",
       "    .dataframe thead th {\n",
       "        text-align: right;\n",
       "    }\n",
       "</style>\n",
       "<table border=\"1\" class=\"dataframe\">\n",
       "  <thead>\n",
       "    <tr style=\"text-align: right;\">\n",
       "      <th></th>\n",
       "      <th>customerID</th>\n",
       "      <th>gender</th>\n",
       "      <th>SeniorCitizen</th>\n",
       "      <th>Partner</th>\n",
       "      <th>Dependents</th>\n",
       "      <th>tenure</th>\n",
       "      <th>PhoneService</th>\n",
       "      <th>MultipleLines</th>\n",
       "      <th>InternetService</th>\n",
       "      <th>OnlineSecurity</th>\n",
       "      <th>...</th>\n",
       "      <th>DeviceProtection</th>\n",
       "      <th>TechSupport</th>\n",
       "      <th>StreamingTV</th>\n",
       "      <th>StreamingMovies</th>\n",
       "      <th>Contract</th>\n",
       "      <th>PaperlessBilling</th>\n",
       "      <th>PaymentMethod</th>\n",
       "      <th>MonthlyCharges</th>\n",
       "      <th>TotalCharges</th>\n",
       "      <th>Churn</th>\n",
       "    </tr>\n",
       "  </thead>\n",
       "  <tbody>\n",
       "    <tr>\n",
       "      <th>0</th>\n",
       "      <td>7590-VHVEG</td>\n",
       "      <td>Female</td>\n",
       "      <td>0</td>\n",
       "      <td>Yes</td>\n",
       "      <td>No</td>\n",
       "      <td>1</td>\n",
       "      <td>No</td>\n",
       "      <td>No phone service</td>\n",
       "      <td>DSL</td>\n",
       "      <td>No</td>\n",
       "      <td>...</td>\n",
       "      <td>No</td>\n",
       "      <td>No</td>\n",
       "      <td>No</td>\n",
       "      <td>No</td>\n",
       "      <td>Month-to-month</td>\n",
       "      <td>Yes</td>\n",
       "      <td>Electronic check</td>\n",
       "      <td>29.85</td>\n",
       "      <td>29.85</td>\n",
       "      <td>No</td>\n",
       "    </tr>\n",
       "    <tr>\n",
       "      <th>1</th>\n",
       "      <td>5575-GNVDE</td>\n",
       "      <td>Male</td>\n",
       "      <td>0</td>\n",
       "      <td>No</td>\n",
       "      <td>No</td>\n",
       "      <td>34</td>\n",
       "      <td>Yes</td>\n",
       "      <td>No</td>\n",
       "      <td>DSL</td>\n",
       "      <td>Yes</td>\n",
       "      <td>...</td>\n",
       "      <td>Yes</td>\n",
       "      <td>No</td>\n",
       "      <td>No</td>\n",
       "      <td>No</td>\n",
       "      <td>One year</td>\n",
       "      <td>No</td>\n",
       "      <td>Mailed check</td>\n",
       "      <td>56.95</td>\n",
       "      <td>1889.5</td>\n",
       "      <td>No</td>\n",
       "    </tr>\n",
       "    <tr>\n",
       "      <th>2</th>\n",
       "      <td>3668-QPYBK</td>\n",
       "      <td>Male</td>\n",
       "      <td>0</td>\n",
       "      <td>No</td>\n",
       "      <td>No</td>\n",
       "      <td>2</td>\n",
       "      <td>Yes</td>\n",
       "      <td>No</td>\n",
       "      <td>DSL</td>\n",
       "      <td>Yes</td>\n",
       "      <td>...</td>\n",
       "      <td>No</td>\n",
       "      <td>No</td>\n",
       "      <td>No</td>\n",
       "      <td>No</td>\n",
       "      <td>Month-to-month</td>\n",
       "      <td>Yes</td>\n",
       "      <td>Mailed check</td>\n",
       "      <td>53.85</td>\n",
       "      <td>108.15</td>\n",
       "      <td>Yes</td>\n",
       "    </tr>\n",
       "    <tr>\n",
       "      <th>3</th>\n",
       "      <td>7795-CFOCW</td>\n",
       "      <td>Male</td>\n",
       "      <td>0</td>\n",
       "      <td>No</td>\n",
       "      <td>No</td>\n",
       "      <td>45</td>\n",
       "      <td>No</td>\n",
       "      <td>No phone service</td>\n",
       "      <td>DSL</td>\n",
       "      <td>Yes</td>\n",
       "      <td>...</td>\n",
       "      <td>Yes</td>\n",
       "      <td>Yes</td>\n",
       "      <td>No</td>\n",
       "      <td>No</td>\n",
       "      <td>One year</td>\n",
       "      <td>No</td>\n",
       "      <td>Bank transfer (automatic)</td>\n",
       "      <td>42.30</td>\n",
       "      <td>1840.75</td>\n",
       "      <td>No</td>\n",
       "    </tr>\n",
       "    <tr>\n",
       "      <th>4</th>\n",
       "      <td>9237-HQITU</td>\n",
       "      <td>Female</td>\n",
       "      <td>0</td>\n",
       "      <td>No</td>\n",
       "      <td>No</td>\n",
       "      <td>2</td>\n",
       "      <td>Yes</td>\n",
       "      <td>No</td>\n",
       "      <td>Fiber optic</td>\n",
       "      <td>No</td>\n",
       "      <td>...</td>\n",
       "      <td>No</td>\n",
       "      <td>No</td>\n",
       "      <td>No</td>\n",
       "      <td>No</td>\n",
       "      <td>Month-to-month</td>\n",
       "      <td>Yes</td>\n",
       "      <td>Electronic check</td>\n",
       "      <td>70.70</td>\n",
       "      <td>151.65</td>\n",
       "      <td>Yes</td>\n",
       "    </tr>\n",
       "  </tbody>\n",
       "</table>\n",
       "<p>5 rows × 21 columns</p>\n",
       "</div>"
      ],
      "text/plain": [
       "   customerID  gender  SeniorCitizen Partner Dependents  tenure PhoneService  \\\n",
       "0  7590-VHVEG  Female              0     Yes         No       1           No   \n",
       "1  5575-GNVDE    Male              0      No         No      34          Yes   \n",
       "2  3668-QPYBK    Male              0      No         No       2          Yes   \n",
       "3  7795-CFOCW    Male              0      No         No      45           No   \n",
       "4  9237-HQITU  Female              0      No         No       2          Yes   \n",
       "\n",
       "      MultipleLines InternetService OnlineSecurity  ... DeviceProtection  \\\n",
       "0  No phone service             DSL             No  ...               No   \n",
       "1                No             DSL            Yes  ...              Yes   \n",
       "2                No             DSL            Yes  ...               No   \n",
       "3  No phone service             DSL            Yes  ...              Yes   \n",
       "4                No     Fiber optic             No  ...               No   \n",
       "\n",
       "  TechSupport StreamingTV StreamingMovies        Contract PaperlessBilling  \\\n",
       "0          No          No              No  Month-to-month              Yes   \n",
       "1          No          No              No        One year               No   \n",
       "2          No          No              No  Month-to-month              Yes   \n",
       "3         Yes          No              No        One year               No   \n",
       "4          No          No              No  Month-to-month              Yes   \n",
       "\n",
       "               PaymentMethod MonthlyCharges  TotalCharges Churn  \n",
       "0           Electronic check          29.85         29.85    No  \n",
       "1               Mailed check          56.95        1889.5    No  \n",
       "2               Mailed check          53.85        108.15   Yes  \n",
       "3  Bank transfer (automatic)          42.30       1840.75    No  \n",
       "4           Electronic check          70.70        151.65   Yes  \n",
       "\n",
       "[5 rows x 21 columns]"
      ]
     },
     "execution_count": 2,
     "metadata": {},
     "output_type": "execute_result"
    }
   ],
   "source": [
    "# let's see that dataset\n",
    "customer_churn=pd.read_csv(\"Telco-Customer-Churn.csv\")\n",
    "customer_churn.head()"
   ]
  },
  {
   "cell_type": "code",
   "execution_count": 4,
   "id": "8accf4fc",
   "metadata": {},
   "outputs": [
    {
     "data": {
      "text/plain": [
       "(7043, 21)"
      ]
     },
     "execution_count": 4,
     "metadata": {},
     "output_type": "execute_result"
    }
   ],
   "source": [
    "# check size of dataset\n",
    "customer_churn.shape"
   ]
  },
  {
   "cell_type": "code",
   "execution_count": 5,
   "id": "64130b7d",
   "metadata": {},
   "outputs": [
    {
     "data": {
      "text/plain": [
       "customerID          0\n",
       "gender              0\n",
       "SeniorCitizen       0\n",
       "Partner             0\n",
       "Dependents          0\n",
       "tenure              0\n",
       "PhoneService        0\n",
       "MultipleLines       0\n",
       "InternetService     0\n",
       "OnlineSecurity      0\n",
       "OnlineBackup        0\n",
       "DeviceProtection    0\n",
       "TechSupport         0\n",
       "StreamingTV         0\n",
       "StreamingMovies     0\n",
       "Contract            0\n",
       "PaperlessBilling    0\n",
       "PaymentMethod       0\n",
       "MonthlyCharges      0\n",
       "TotalCharges        0\n",
       "Churn               0\n",
       "dtype: int64"
      ]
     },
     "execution_count": 5,
     "metadata": {},
     "output_type": "execute_result"
    }
   ],
   "source": [
    "# check any missing values in the dataset\n",
    "customer_churn.isnull().sum()"
   ]
  },
  {
   "cell_type": "markdown",
   "id": "ecfcb728",
   "metadata": {},
   "source": [
    "#### No missing values in the dataset"
   ]
  },
  {
   "cell_type": "code",
   "execution_count": 6,
   "id": "b35940b1",
   "metadata": {},
   "outputs": [
    {
     "name": "stdout",
     "output_type": "stream",
     "text": [
      "<class 'pandas.core.frame.DataFrame'>\n",
      "RangeIndex: 7043 entries, 0 to 7042\n",
      "Data columns (total 21 columns):\n",
      " #   Column            Non-Null Count  Dtype  \n",
      "---  ------            --------------  -----  \n",
      " 0   customerID        7043 non-null   object \n",
      " 1   gender            7043 non-null   object \n",
      " 2   SeniorCitizen     7043 non-null   int64  \n",
      " 3   Partner           7043 non-null   object \n",
      " 4   Dependents        7043 non-null   object \n",
      " 5   tenure            7043 non-null   int64  \n",
      " 6   PhoneService      7043 non-null   object \n",
      " 7   MultipleLines     7043 non-null   object \n",
      " 8   InternetService   7043 non-null   object \n",
      " 9   OnlineSecurity    7043 non-null   object \n",
      " 10  OnlineBackup      7043 non-null   object \n",
      " 11  DeviceProtection  7043 non-null   object \n",
      " 12  TechSupport       7043 non-null   object \n",
      " 13  StreamingTV       7043 non-null   object \n",
      " 14  StreamingMovies   7043 non-null   object \n",
      " 15  Contract          7043 non-null   object \n",
      " 16  PaperlessBilling  7043 non-null   object \n",
      " 17  PaymentMethod     7043 non-null   object \n",
      " 18  MonthlyCharges    7043 non-null   float64\n",
      " 19  TotalCharges      7043 non-null   object \n",
      " 20  Churn             7043 non-null   object \n",
      "dtypes: float64(1), int64(2), object(18)\n",
      "memory usage: 1.1+ MB\n"
     ]
    }
   ],
   "source": [
    "# checking what type of data we have\n",
    "customer_churn.info()"
   ]
  },
  {
   "cell_type": "markdown",
   "id": "098c0f92",
   "metadata": {},
   "source": [
    "#### Here we have lot of object dtypes"
   ]
  },
  {
   "cell_type": "markdown",
   "id": "612e3b7f",
   "metadata": {},
   "source": [
    "### 2. Perform EDA on the dataset"
   ]
  },
  {
   "cell_type": "code",
   "execution_count": 13,
   "id": "308cb27b",
   "metadata": {},
   "outputs": [
    {
     "data": {
      "text/plain": [
       "0     No\n",
       "1     No\n",
       "2    Yes\n",
       "3     No\n",
       "4    Yes\n",
       "Name: Churn, dtype: object"
      ]
     },
     "execution_count": 13,
     "metadata": {},
     "output_type": "execute_result"
    }
   ],
   "source": [
    "# Now let's go through the churn column in our dataset\n",
    "customer_churn['Churn'][:5]"
   ]
  },
  {
   "cell_type": "markdown",
   "id": "665184da",
   "metadata": {},
   "source": [
    "#### Here we can say that churn have have positive or negative values . Yes means customer will churn our and no means customer will not churn our. So, our first task is to convert the yes/no values to 1/0 values so that is will be easier for us to do the further operations."
   ]
  },
  {
   "cell_type": "code",
   "execution_count": 33,
   "id": "8d6406cd",
   "metadata": {},
   "outputs": [],
   "source": [
    "customer_churn['Churn']=customer_churn['Churn'].replace({'Yes':1 , 'No':0})"
   ]
  },
  {
   "cell_type": "markdown",
   "id": "6860eff7",
   "metadata": {},
   "source": [
    "#### Here we get the value in the form of 0 and 1. Let's step ahead and look at other rows if we can convert the values to the appropriate format."
   ]
  },
  {
   "cell_type": "code",
   "execution_count": 15,
   "id": "186a2866",
   "metadata": {},
   "outputs": [
    {
     "data": {
      "text/plain": [
       "array(['No', 'Yes', 'No internet service'], dtype=object)"
      ]
     },
     "execution_count": 15,
     "metadata": {},
     "output_type": "execute_result"
    }
   ],
   "source": [
    "customer_churn['StreamingMovies'].unique()"
   ]
  },
  {
   "cell_type": "code",
   "execution_count": 12,
   "id": "121cba93",
   "metadata": {},
   "outputs": [
    {
     "data": {
      "text/plain": [
       "array(['29.85', '1889.5', '108.15', ..., '346.45', '306.6', '6844.5'],\n",
       "      dtype=object)"
      ]
     },
     "execution_count": 12,
     "metadata": {},
     "output_type": "execute_result"
    }
   ],
   "source": [
    "customer_churn['TotalCharges'].unique()"
   ]
  },
  {
   "cell_type": "markdown",
   "id": "b5848a13",
   "metadata": {},
   "source": [
    "#### let's convert replace the \"No internet service\" string to \"No\" in the following columns below."
   ]
  },
  {
   "cell_type": "code",
   "execution_count": 16,
   "id": "9d8a13e4",
   "metadata": {},
   "outputs": [],
   "source": [
    "cols = ['OnlineBackup', 'StreamingMovies','DeviceProtection','TechSupport','OnlineSecurity','StreamingTV']\n",
    "\n",
    "for value in cols:\n",
    "    customer_churn[value]=customer_churn[value].replace({'No internet service':'No'})"
   ]
  },
  {
   "cell_type": "markdown",
   "id": "f13be5a4",
   "metadata": {},
   "source": [
    "#### Now the values lies in yes or no for the above columns."
   ]
  },
  {
   "cell_type": "code",
   "execution_count": 26,
   "id": "10ae3876",
   "metadata": {},
   "outputs": [
    {
     "data": {
      "text/plain": [
       "[' ', ' ', ' ', ' ', ' ', ' ', ' ', ' ', ' ', ' ', ' ']"
      ]
     },
     "execution_count": 26,
     "metadata": {},
     "output_type": "execute_result"
    }
   ],
   "source": [
    "empty=[i for i in customer_churn['TotalCharges'] if i == \" \"]\n",
    "empty\n"
   ]
  },
  {
   "cell_type": "markdown",
   "id": "ebd0e009",
   "metadata": {},
   "source": [
    "#### Total charges column have some values with extra spaces. so first remove those extra spaces from our columns. After that our column is a type of object so convert it into float."
   ]
  },
  {
   "cell_type": "code",
   "execution_count": 27,
   "id": "e31fe912",
   "metadata": {},
   "outputs": [],
   "source": [
    "customer_churn['TotalCharges'] = customer_churn['TotalCharges'].replace(\" \",np.nan)\n",
    "\n",
    "# Drop null values of 'Total Charges' feature\n",
    "customer_churn = customer_churn[customer_churn[\"TotalCharges\"].notnull()]\n",
    "customer_churn = customer_churn.reset_index()[customer_churn.columns]\n",
    "\n",
    "customer_churn['TotalCharges'] = customer_churn['TotalCharges'].astype(float)"
   ]
  },
  {
   "cell_type": "code",
   "execution_count": 28,
   "id": "a617e60b",
   "metadata": {},
   "outputs": [
    {
     "data": {
      "text/plain": [
       "dtype('float64')"
      ]
     },
     "execution_count": 28,
     "metadata": {},
     "output_type": "execute_result"
    }
   ],
   "source": [
    "customer_churn['TotalCharges'].dtype"
   ]
  },
  {
   "cell_type": "markdown",
   "id": "5575e32d",
   "metadata": {},
   "source": [
    "#### Here we successfully converted our object type data into float."
   ]
  },
  {
   "cell_type": "markdown",
   "id": "a0422c4d",
   "metadata": {},
   "source": [
    "### Data Visualization: Let's visualize our data and understand it more clearly."
   ]
  },
  {
   "cell_type": "code",
   "execution_count": 34,
   "id": "b1da7e8a",
   "metadata": {},
   "outputs": [
    {
     "data": {
      "text/plain": [
       "0    5163\n",
       "1    1869\n",
       "Name: Churn, dtype: int64"
      ]
     },
     "execution_count": 34,
     "metadata": {},
     "output_type": "execute_result"
    }
   ],
   "source": [
    "customer_churn['Churn'].value_counts()"
   ]
  },
  {
   "cell_type": "markdown",
   "id": "b7e6895a",
   "metadata": {},
   "source": [
    "#### What percentage of customer have churn or not ?"
   ]
  },
  {
   "cell_type": "code",
   "execution_count": 55,
   "id": "b619074d",
   "metadata": {
    "scrolled": false
   },
   "outputs": [
    {
     "data": {
      "image/png": "[encoded data removed]",
      "text/plain": [
       "<Figure size 640x480 with 1 Axes>"
      ]
     },
     "metadata": {},
     "output_type": "display_data"
    }
   ],
   "source": [
    "churn_x = customer_churn['Churn'].value_counts()\n",
    "churn_y = customer_churn['Churn'].value_counts().keys().tolist()\n",
    "fig = plt.pie(churn_x, \n",
    "             labels =churn_y, autopct= '%1.1f%%')\n",
    "plt.legend()\n",
    "plt.show()"
   ]
  },
  {
   "cell_type": "markdown",
   "id": "4d47170e",
   "metadata": {},
   "source": [
    "#### As per the grapgh 73.45% of customers wil churn. "
   ]
  },
  {
   "cell_type": "markdown",
   "id": "5aa8dd0b",
   "metadata": {},
   "source": [
    "#### \"Male or Female\" who have churn the most?"
   ]
  },
  {
   "cell_type": "code",
   "execution_count": 69,
   "id": "5a6a11ea",
   "metadata": {},
   "outputs": [],
   "source": [
    "gender_chunk = customer_churn.groupby('gender').Churn.mean().reset_index()"
   ]
  },
  {
   "cell_type": "code",
   "execution_count": 70,
   "id": "0a971612",
   "metadata": {},
   "outputs": [
    {
     "data": {
      "text/html": [
       "<div>\n",
       "<style scoped>\n",
       "    .dataframe tbody tr th:only-of-type {\n",
       "        vertical-align: middle;\n",
       "    }\n",
       "\n",
       "    .dataframe tbody tr th {\n",
       "        vertical-align: top;\n",
       "    }\n",
       "\n",
       "    .dataframe thead th {\n",
       "        text-align: right;\n",
       "    }\n",
       "</style>\n",
       "<table border=\"1\" class=\"dataframe\">\n",
       "  <thead>\n",
       "    <tr style=\"text-align: right;\">\n",
       "      <th></th>\n",
       "      <th>gender</th>\n",
       "      <th>Churn</th>\n",
       "    </tr>\n",
       "  </thead>\n",
       "  <tbody>\n",
       "    <tr>\n",
       "      <th>0</th>\n",
       "      <td>Female</td>\n",
       "      <td>0.269595</td>\n",
       "    </tr>\n",
       "    <tr>\n",
       "      <th>1</th>\n",
       "      <td>Male</td>\n",
       "      <td>0.262046</td>\n",
       "    </tr>\n",
       "  </tbody>\n",
       "</table>\n",
       "</div>"
      ],
      "text/plain": [
       "   gender     Churn\n",
       "0  Female  0.269595\n",
       "1    Male  0.262046"
      ]
     },
     "execution_count": 70,
     "metadata": {},
     "output_type": "execute_result"
    }
   ],
   "source": [
    "gender_chunk"
   ]
  },
  {
   "cell_type": "code",
   "execution_count": 75,
   "id": "614377fa",
   "metadata": {},
   "outputs": [
    {
     "data": {
      "image/png": "[encoded data removed]",
      "text/plain": [
       "<Figure size 640x480 with 1 Axes>"
      ]
     },
     "metadata": {},
     "output_type": "display_data"
    }
   ],
   "source": [
    "sns.barplot(x=gender_chunk['gender'], y=gender_chunk['Churn'])\n",
    "plt.show()"
   ]
  },
  {
   "cell_type": "markdown",
   "id": "72f13585",
   "metadata": {},
   "source": [
    "#### Does Tech support plays a important role?"
   ]
  },
  {
   "cell_type": "code",
   "execution_count": 76,
   "id": "2a33f4bc",
   "metadata": {},
   "outputs": [],
   "source": [
    "tech_chunk = customer_churn.groupby('TechSupport').Churn.mean().reset_index()"
   ]
  },
  {
   "cell_type": "code",
   "execution_count": 78,
   "id": "bf8f1120",
   "metadata": {},
   "outputs": [
    {
     "data": {
      "image/png": "[encoded data removed]",
      "text/plain": [
       "<Figure size 640x480 with 1 Axes>"
      ]
     },
     "metadata": {},
     "output_type": "display_data"
    }
   ],
   "source": [
    "sns.barplot(x=tech_chunk['TechSupport'], y=tech_chunk['Churn'])\n",
    "plt.show()"
   ]
  },
  {
   "cell_type": "markdown",
   "id": "ab001c8c",
   "metadata": {},
   "source": [
    "#### Telecome company is not satisfying their customer with internet support?"
   ]
  },
  {
   "cell_type": "code",
   "execution_count": 79,
   "id": "8cf8417d",
   "metadata": {},
   "outputs": [
    {
     "data": {
      "image/png": "[encoded data removed]",
      "text/plain": [
       "<Figure size 640x480 with 1 Axes>"
      ]
     },
     "metadata": {},
     "output_type": "display_data"
    }
   ],
   "source": [
    "internet_chunk = customer_churn.groupby('InternetService').Churn.mean().reset_index()\n",
    "\n",
    "sns.barplot(x=internet_chunk['InternetService'], y=internet_chunk['Churn'])\n",
    "plt.show()"
   ]
  },
  {
   "cell_type": "markdown",
   "id": "889186bb",
   "metadata": {},
   "source": [
    "#### Payment Method, Any role in Churning??"
   ]
  },
  {
   "cell_type": "code",
   "execution_count": 89,
   "id": "e3d629c0",
   "metadata": {},
   "outputs": [
    {
     "data": {
      "image/png": "[encoded data removed]",
      "text/plain": [
       "<Figure size 640x480 with 1 Axes>"
      ]
     },
     "metadata": {},
     "output_type": "display_data"
    }
   ],
   "source": [
    "payment_chunk= customer_churn.groupby('PaymentMethod').Churn.mean().reset_index()\n",
    "plt.Figure(figsize=(12,8))\n",
    "sns.barplot(x=payment_chunk['PaymentMethod'], y=payment_chunk['Churn'] )\n",
    "plt.xticks(rotation = 30, ha = 'right')\n",
    "plt.show()"
   ]
  },
  {
   "cell_type": "markdown",
   "id": "164c48cb",
   "metadata": {},
   "source": [
    "#### Here we can clearly see that customers making payment through electronic check seem to be more churn than others."
   ]
  },
  {
   "cell_type": "markdown",
   "id": "07fcc3da",
   "metadata": {},
   "source": [
    "#### Signing long term or short contract term churn the most?"
   ]
  },
  {
   "cell_type": "code",
   "execution_count": 90,
   "id": "73f5e4b1",
   "metadata": {},
   "outputs": [
    {
     "data": {
      "image/png": "[encoded data removed]",
      "text/plain": [
       "<Figure size 640x480 with 1 Axes>"
      ]
     },
     "metadata": {},
     "output_type": "display_data"
    }
   ],
   "source": [
    "contract_chunk= customer_churn.groupby('Contract').Churn.mean().reset_index()\n",
    "\n",
    "sns.barplot(x=contract_chunk['Contract'], y=contract_chunk['Churn'])\n",
    "plt.show()"
   ]
  },
  {
   "cell_type": "markdown",
   "id": "fb06018d",
   "metadata": {},
   "source": [
    "#### From the above bar chart we can clearly see that customers who have monthly contract seems more likely to churn as compared to one year of two year contract signed customers."
   ]
  },
  {
   "cell_type": "markdown",
   "id": "a6f105be",
   "metadata": {},
   "source": [
    "#### is tenure has effect on Churn ?"
   ]
  },
  {
   "cell_type": "code",
   "execution_count": 99,
   "id": "fc02b501",
   "metadata": {},
   "outputs": [
    {
     "data": {
      "image/png": "[encoded data removed]",
      "text/plain": [
       "<Figure size 640x480 with 1 Axes>"
      ]
     },
     "metadata": {},
     "output_type": "display_data"
    }
   ],
   "source": [
    "ten_chunk= customer_churn.groupby('tenure').Churn.mean().reset_index()\n",
    "plt.Figure().set_figwidth(15)\n",
    "sns.barplot(x=ten_chunk['tenure'], y=ten_chunk['Churn'], width=.8 )\n",
    "plt.xticks(rotation = 90, ha = 'right')\n",
    "plt.show()"
   ]
  },
  {
   "cell_type": "markdown",
   "id": "3b5912f3",
   "metadata": {},
   "source": [
    "#### Here we can see that higher tenure resulted in low churn rate."
   ]
  },
  {
   "cell_type": "code",
   "execution_count": 100,
   "id": "3e101f94",
   "metadata": {},
   "outputs": [],
   "source": [
    "churn_data = pd.get_dummies(customer_churn, columns = ['Contract','Dependents','DeviceProtection','gender',\n",
    "                                                        'InternetService','MultipleLines','OnlineBackup',\n",
    "                                                        'OnlineSecurity','PaperlessBilling','Partner',\n",
    "                                                        'PaymentMethod','PhoneService','SeniorCitizen',\n",
    "                                                        'StreamingMovies','StreamingTV','TechSupport'],\n",
    "                              drop_first=True)"
   ]
  },
  {
   "cell_type": "code",
   "execution_count": 101,
   "id": "c704e799",
   "metadata": {},
   "outputs": [
    {
     "data": {
      "text/html": [
       "<div>\n",
       "<style scoped>\n",
       "    .dataframe tbody tr th:only-of-type {\n",
       "        vertical-align: middle;\n",
       "    }\n",
       "\n",
       "    .dataframe tbody tr th {\n",
       "        vertical-align: top;\n",
       "    }\n",
       "\n",
       "    .dataframe thead th {\n",
       "        text-align: right;\n",
       "    }\n",
       "</style>\n",
       "<table border=\"1\" class=\"dataframe\">\n",
       "  <thead>\n",
       "    <tr style=\"text-align: right;\">\n",
       "      <th></th>\n",
       "      <th>customerID</th>\n",
       "      <th>tenure</th>\n",
       "      <th>MonthlyCharges</th>\n",
       "      <th>TotalCharges</th>\n",
       "      <th>Churn</th>\n",
       "      <th>Contract_One year</th>\n",
       "      <th>Contract_Two year</th>\n",
       "      <th>Dependents_Yes</th>\n",
       "      <th>DeviceProtection_Yes</th>\n",
       "      <th>gender_Male</th>\n",
       "      <th>...</th>\n",
       "      <th>PaperlessBilling_Yes</th>\n",
       "      <th>Partner_Yes</th>\n",
       "      <th>PaymentMethod_Credit card (automatic)</th>\n",
       "      <th>PaymentMethod_Electronic check</th>\n",
       "      <th>PaymentMethod_Mailed check</th>\n",
       "      <th>PhoneService_Yes</th>\n",
       "      <th>SeniorCitizen_1</th>\n",
       "      <th>StreamingMovies_Yes</th>\n",
       "      <th>StreamingTV_Yes</th>\n",
       "      <th>TechSupport_Yes</th>\n",
       "    </tr>\n",
       "  </thead>\n",
       "  <tbody>\n",
       "    <tr>\n",
       "      <th>0</th>\n",
       "      <td>7590-VHVEG</td>\n",
       "      <td>1</td>\n",
       "      <td>29.85</td>\n",
       "      <td>29.85</td>\n",
       "      <td>0</td>\n",
       "      <td>0</td>\n",
       "      <td>0</td>\n",
       "      <td>0</td>\n",
       "      <td>0</td>\n",
       "      <td>0</td>\n",
       "      <td>...</td>\n",
       "      <td>1</td>\n",
       "      <td>1</td>\n",
       "      <td>0</td>\n",
       "      <td>1</td>\n",
       "      <td>0</td>\n",
       "      <td>0</td>\n",
       "      <td>0</td>\n",
       "      <td>0</td>\n",
       "      <td>0</td>\n",
       "      <td>0</td>\n",
       "    </tr>\n",
       "    <tr>\n",
       "      <th>1</th>\n",
       "      <td>5575-GNVDE</td>\n",
       "      <td>34</td>\n",
       "      <td>56.95</td>\n",
       "      <td>1889.50</td>\n",
       "      <td>0</td>\n",
       "      <td>1</td>\n",
       "      <td>0</td>\n",
       "      <td>0</td>\n",
       "      <td>1</td>\n",
       "      <td>1</td>\n",
       "      <td>...</td>\n",
       "      <td>0</td>\n",
       "      <td>0</td>\n",
       "      <td>0</td>\n",
       "      <td>0</td>\n",
       "      <td>1</td>\n",
       "      <td>1</td>\n",
       "      <td>0</td>\n",
       "      <td>0</td>\n",
       "      <td>0</td>\n",
       "      <td>0</td>\n",
       "    </tr>\n",
       "    <tr>\n",
       "      <th>2</th>\n",
       "      <td>3668-QPYBK</td>\n",
       "      <td>2</td>\n",
       "      <td>53.85</td>\n",
       "      <td>108.15</td>\n",
       "      <td>1</td>\n",
       "      <td>0</td>\n",
       "      <td>0</td>\n",
       "      <td>0</td>\n",
       "      <td>0</td>\n",
       "      <td>1</td>\n",
       "      <td>...</td>\n",
       "      <td>1</td>\n",
       "      <td>0</td>\n",
       "      <td>0</td>\n",
       "      <td>0</td>\n",
       "      <td>1</td>\n",
       "      <td>1</td>\n",
       "      <td>0</td>\n",
       "      <td>0</td>\n",
       "      <td>0</td>\n",
       "      <td>0</td>\n",
       "    </tr>\n",
       "    <tr>\n",
       "      <th>3</th>\n",
       "      <td>7795-CFOCW</td>\n",
       "      <td>45</td>\n",
       "      <td>42.30</td>\n",
       "      <td>1840.75</td>\n",
       "      <td>0</td>\n",
       "      <td>1</td>\n",
       "      <td>0</td>\n",
       "      <td>0</td>\n",
       "      <td>1</td>\n",
       "      <td>1</td>\n",
       "      <td>...</td>\n",
       "      <td>0</td>\n",
       "      <td>0</td>\n",
       "      <td>0</td>\n",
       "      <td>0</td>\n",
       "      <td>0</td>\n",
       "      <td>0</td>\n",
       "      <td>0</td>\n",
       "      <td>0</td>\n",
       "      <td>0</td>\n",
       "      <td>1</td>\n",
       "    </tr>\n",
       "    <tr>\n",
       "      <th>4</th>\n",
       "      <td>9237-HQITU</td>\n",
       "      <td>2</td>\n",
       "      <td>70.70</td>\n",
       "      <td>151.65</td>\n",
       "      <td>1</td>\n",
       "      <td>0</td>\n",
       "      <td>0</td>\n",
       "      <td>0</td>\n",
       "      <td>0</td>\n",
       "      <td>0</td>\n",
       "      <td>...</td>\n",
       "      <td>1</td>\n",
       "      <td>0</td>\n",
       "      <td>0</td>\n",
       "      <td>1</td>\n",
       "      <td>0</td>\n",
       "      <td>1</td>\n",
       "      <td>0</td>\n",
       "      <td>0</td>\n",
       "      <td>0</td>\n",
       "      <td>0</td>\n",
       "    </tr>\n",
       "  </tbody>\n",
       "</table>\n",
       "<p>5 rows × 26 columns</p>\n",
       "</div>"
      ],
      "text/plain": [
       "   customerID  tenure  MonthlyCharges  TotalCharges  Churn  Contract_One year  \\\n",
       "0  7590-VHVEG       1           29.85         29.85      0                  0   \n",
       "1  5575-GNVDE      34           56.95       1889.50      0                  1   \n",
       "2  3668-QPYBK       2           53.85        108.15      1                  0   \n",
       "3  7795-CFOCW      45           42.30       1840.75      0                  1   \n",
       "4  9237-HQITU       2           70.70        151.65      1                  0   \n",
       "\n",
       "   Contract_Two year  Dependents_Yes  DeviceProtection_Yes  gender_Male  ...  \\\n",
       "0                  0               0                     0            0  ...   \n",
       "1                  0               0                     1            1  ...   \n",
       "2                  0               0                     0            1  ...   \n",
       "3                  0               0                     1            1  ...   \n",
       "4                  0               0                     0            0  ...   \n",
       "\n",
       "   PaperlessBilling_Yes  Partner_Yes  PaymentMethod_Credit card (automatic)  \\\n",
       "0                     1            1                                      0   \n",
       "1                     0            0                                      0   \n",
       "2                     1            0                                      0   \n",
       "3                     0            0                                      0   \n",
       "4                     1            0                                      0   \n",
       "\n",
       "   PaymentMethod_Electronic check  PaymentMethod_Mailed check  \\\n",
       "0                               1                           0   \n",
       "1                               0                           1   \n",
       "2                               0                           1   \n",
       "3                               0                           0   \n",
       "4                               1                           0   \n",
       "\n",
       "   PhoneService_Yes  SeniorCitizen_1  StreamingMovies_Yes  StreamingTV_Yes  \\\n",
       "0                 0                0                    0                0   \n",
       "1                 1                0                    0                0   \n",
       "2                 1                0                    0                0   \n",
       "3                 0                0                    0                0   \n",
       "4                 1                0                    0                0   \n",
       "\n",
       "   TechSupport_Yes  \n",
       "0                0  \n",
       "1                0  \n",
       "2                0  \n",
       "3                1  \n",
       "4                0  \n",
       "\n",
       "[5 rows x 26 columns]"
      ]
     },
     "execution_count": 101,
     "metadata": {},
     "output_type": "execute_result"
    }
   ],
   "source": [
    "churn_data.head()"
   ]
  },
  {
   "cell_type": "markdown",
   "id": "0ef83ad7",
   "metadata": {},
   "source": [
    "## Modelling"
   ]
  },
  {
   "cell_type": "code",
   "execution_count": 102,
   "id": "504749be",
   "metadata": {},
   "outputs": [],
   "source": [
    "from sklearn.preprocessing import StandardScaler\n",
    "\n",
    "#Perform Feature Scaling on 'tenure', 'MonthlyCharges', 'TotalCharges' in order to bring them on same scale\n",
    "standard = StandardScaler()\n",
    "columns_for_ft_scaling = ['tenure', 'MonthlyCharges', 'TotalCharges']\n",
    "\n",
    "#Apply the feature scaling operation on dataset using fit_transform() method\n",
    "churn_data[columns_for_ft_scaling] = standard.fit_transform(churn_data[columns_for_ft_scaling])"
   ]
  },
  {
   "cell_type": "code",
   "execution_count": 103,
   "id": "24cb9f48",
   "metadata": {
    "scrolled": false
   },
   "outputs": [
    {
     "data": {
      "text/html": [
       "<div>\n",
       "<style scoped>\n",
       "    .dataframe tbody tr th:only-of-type {\n",
       "        vertical-align: middle;\n",
       "    }\n",
       "\n",
       "    .dataframe tbody tr th {\n",
       "        vertical-align: top;\n",
       "    }\n",
       "\n",
       "    .dataframe thead th {\n",
       "        text-align: right;\n",
       "    }\n",
       "</style>\n",
       "<table border=\"1\" class=\"dataframe\">\n",
       "  <thead>\n",
       "    <tr style=\"text-align: right;\">\n",
       "      <th></th>\n",
       "      <th>customerID</th>\n",
       "      <th>tenure</th>\n",
       "      <th>MonthlyCharges</th>\n",
       "      <th>TotalCharges</th>\n",
       "      <th>Churn</th>\n",
       "      <th>Contract_One year</th>\n",
       "      <th>Contract_Two year</th>\n",
       "      <th>Dependents_Yes</th>\n",
       "      <th>DeviceProtection_Yes</th>\n",
       "      <th>gender_Male</th>\n",
       "      <th>...</th>\n",
       "      <th>PaperlessBilling_Yes</th>\n",
       "      <th>Partner_Yes</th>\n",
       "      <th>PaymentMethod_Credit card (automatic)</th>\n",
       "      <th>PaymentMethod_Electronic check</th>\n",
       "      <th>PaymentMethod_Mailed check</th>\n",
       "      <th>PhoneService_Yes</th>\n",
       "      <th>SeniorCitizen_1</th>\n",
       "      <th>StreamingMovies_Yes</th>\n",
       "      <th>StreamingTV_Yes</th>\n",
       "      <th>TechSupport_Yes</th>\n",
       "    </tr>\n",
       "  </thead>\n",
       "  <tbody>\n",
       "    <tr>\n",
       "      <th>0</th>\n",
       "      <td>7590-VHVEG</td>\n",
       "      <td>-1.280248</td>\n",
       "      <td>-1.161694</td>\n",
       "      <td>-0.994194</td>\n",
       "      <td>0</td>\n",
       "      <td>0</td>\n",
       "      <td>0</td>\n",
       "      <td>0</td>\n",
       "      <td>0</td>\n",
       "      <td>0</td>\n",
       "      <td>...</td>\n",
       "      <td>1</td>\n",
       "      <td>1</td>\n",
       "      <td>0</td>\n",
       "      <td>1</td>\n",
       "      <td>0</td>\n",
       "      <td>0</td>\n",
       "      <td>0</td>\n",
       "      <td>0</td>\n",
       "      <td>0</td>\n",
       "      <td>0</td>\n",
       "    </tr>\n",
       "    <tr>\n",
       "      <th>1</th>\n",
       "      <td>5575-GNVDE</td>\n",
       "      <td>0.064303</td>\n",
       "      <td>-0.260878</td>\n",
       "      <td>-0.173740</td>\n",
       "      <td>0</td>\n",
       "      <td>1</td>\n",
       "      <td>0</td>\n",
       "      <td>0</td>\n",
       "      <td>1</td>\n",
       "      <td>1</td>\n",
       "      <td>...</td>\n",
       "      <td>0</td>\n",
       "      <td>0</td>\n",
       "      <td>0</td>\n",
       "      <td>0</td>\n",
       "      <td>1</td>\n",
       "      <td>1</td>\n",
       "      <td>0</td>\n",
       "      <td>0</td>\n",
       "      <td>0</td>\n",
       "      <td>0</td>\n",
       "    </tr>\n",
       "    <tr>\n",
       "      <th>2</th>\n",
       "      <td>3668-QPYBK</td>\n",
       "      <td>-1.239504</td>\n",
       "      <td>-0.363923</td>\n",
       "      <td>-0.959649</td>\n",
       "      <td>1</td>\n",
       "      <td>0</td>\n",
       "      <td>0</td>\n",
       "      <td>0</td>\n",
       "      <td>0</td>\n",
       "      <td>1</td>\n",
       "      <td>...</td>\n",
       "      <td>1</td>\n",
       "      <td>0</td>\n",
       "      <td>0</td>\n",
       "      <td>0</td>\n",
       "      <td>1</td>\n",
       "      <td>1</td>\n",
       "      <td>0</td>\n",
       "      <td>0</td>\n",
       "      <td>0</td>\n",
       "      <td>0</td>\n",
       "    </tr>\n",
       "    <tr>\n",
       "      <th>3</th>\n",
       "      <td>7795-CFOCW</td>\n",
       "      <td>0.512486</td>\n",
       "      <td>-0.747850</td>\n",
       "      <td>-0.195248</td>\n",
       "      <td>0</td>\n",
       "      <td>1</td>\n",
       "      <td>0</td>\n",
       "      <td>0</td>\n",
       "      <td>1</td>\n",
       "      <td>1</td>\n",
       "      <td>...</td>\n",
       "      <td>0</td>\n",
       "      <td>0</td>\n",
       "      <td>0</td>\n",
       "      <td>0</td>\n",
       "      <td>0</td>\n",
       "      <td>0</td>\n",
       "      <td>0</td>\n",
       "      <td>0</td>\n",
       "      <td>0</td>\n",
       "      <td>1</td>\n",
       "    </tr>\n",
       "    <tr>\n",
       "      <th>4</th>\n",
       "      <td>9237-HQITU</td>\n",
       "      <td>-1.239504</td>\n",
       "      <td>0.196178</td>\n",
       "      <td>-0.940457</td>\n",
       "      <td>1</td>\n",
       "      <td>0</td>\n",
       "      <td>0</td>\n",
       "      <td>0</td>\n",
       "      <td>0</td>\n",
       "      <td>0</td>\n",
       "      <td>...</td>\n",
       "      <td>1</td>\n",
       "      <td>0</td>\n",
       "      <td>0</td>\n",
       "      <td>1</td>\n",
       "      <td>0</td>\n",
       "      <td>1</td>\n",
       "      <td>0</td>\n",
       "      <td>0</td>\n",
       "      <td>0</td>\n",
       "      <td>0</td>\n",
       "    </tr>\n",
       "  </tbody>\n",
       "</table>\n",
       "<p>5 rows × 26 columns</p>\n",
       "</div>"
      ],
      "text/plain": [
       "   customerID    tenure  MonthlyCharges  TotalCharges  Churn  \\\n",
       "0  7590-VHVEG -1.280248       -1.161694     -0.994194      0   \n",
       "1  5575-GNVDE  0.064303       -0.260878     -0.173740      0   \n",
       "2  3668-QPYBK -1.239504       -0.363923     -0.959649      1   \n",
       "3  7795-CFOCW  0.512486       -0.747850     -0.195248      0   \n",
       "4  9237-HQITU -1.239504        0.196178     -0.940457      1   \n",
       "\n",
       "   Contract_One year  Contract_Two year  Dependents_Yes  DeviceProtection_Yes  \\\n",
       "0                  0                  0               0                     0   \n",
       "1                  1                  0               0                     1   \n",
       "2                  0                  0               0                     0   \n",
       "3                  1                  0               0                     1   \n",
       "4                  0                  0               0                     0   \n",
       "\n",
       "   gender_Male  ...  PaperlessBilling_Yes  Partner_Yes  \\\n",
       "0            0  ...                     1            1   \n",
       "1            1  ...                     0            0   \n",
       "2            1  ...                     1            0   \n",
       "3            1  ...                     0            0   \n",
       "4            0  ...                     1            0   \n",
       "\n",
       "   PaymentMethod_Credit card (automatic)  PaymentMethod_Electronic check  \\\n",
       "0                                      0                               1   \n",
       "1                                      0                               0   \n",
       "2                                      0                               0   \n",
       "3                                      0                               0   \n",
       "4                                      0                               1   \n",
       "\n",
       "   PaymentMethod_Mailed check  PhoneService_Yes  SeniorCitizen_1  \\\n",
       "0                           0                 0                0   \n",
       "1                           1                 1                0   \n",
       "2                           1                 1                0   \n",
       "3                           0                 0                0   \n",
       "4                           0                 1                0   \n",
       "\n",
       "   StreamingMovies_Yes  StreamingTV_Yes  TechSupport_Yes  \n",
       "0                    0                0                0  \n",
       "1                    0                0                0  \n",
       "2                    0                0                0  \n",
       "3                    0                0                1  \n",
       "4                    0                0                0  \n",
       "\n",
       "[5 rows x 26 columns]"
      ]
     },
     "execution_count": 103,
     "metadata": {},
     "output_type": "execute_result"
    }
   ],
   "source": [
    "churn_data.head()"
   ]
  },
  {
   "cell_type": "markdown",
   "id": "ec9c6468",
   "metadata": {},
   "source": [
    "#### Here we can see that tenure,MonthlyCharges and TotalCharges are in same range. and the suffix are converted into subcolumns eg: Contract is expanded to contract_one year and Contract_Two year. These are only the individual values. Let's see how many columns we have in our dataset."
   ]
  },
  {
   "cell_type": "code",
   "execution_count": 104,
   "id": "8c4d375a",
   "metadata": {},
   "outputs": [
    {
     "data": {
      "text/plain": [
       "['customerID',\n",
       " 'tenure',\n",
       " 'MonthlyCharges',\n",
       " 'TotalCharges',\n",
       " 'Churn',\n",
       " 'Contract_One year',\n",
       " 'Contract_Two year',\n",
       " 'Dependents_Yes',\n",
       " 'DeviceProtection_Yes',\n",
       " 'gender_Male',\n",
       " 'InternetService_Fiber optic',\n",
       " 'InternetService_No',\n",
       " 'MultipleLines_No phone service',\n",
       " 'MultipleLines_Yes',\n",
       " 'OnlineBackup_Yes',\n",
       " 'OnlineSecurity_Yes',\n",
       " 'PaperlessBilling_Yes',\n",
       " 'Partner_Yes',\n",
       " 'PaymentMethod_Credit card (automatic)',\n",
       " 'PaymentMethod_Electronic check',\n",
       " 'PaymentMethod_Mailed check',\n",
       " 'PhoneService_Yes',\n",
       " 'SeniorCitizen_1',\n",
       " 'StreamingMovies_Yes',\n",
       " 'StreamingTV_Yes',\n",
       " 'TechSupport_Yes']"
      ]
     },
     "execution_count": 104,
     "metadata": {},
     "output_type": "execute_result"
    }
   ],
   "source": [
    "list(churn_data.columns)"
   ]
  },
  {
   "cell_type": "markdown",
   "id": "2578230c",
   "metadata": {},
   "source": [
    "#### We can clearly see that we have added multiple columns for the individual values.\n",
    "\n",
    "#### Now let's import the appropriate libraries and train our model."
   ]
  },
  {
   "cell_type": "code",
   "execution_count": 126,
   "id": "9a4f4b07",
   "metadata": {},
   "outputs": [],
   "source": [
    "from sklearn.model_selection import train_test_split\n",
    "from sklearn.linear_model import LogisticRegression\n",
    "from sklearn.ensemble import RandomForestClassifier\n",
    "from sklearn.svm import SVC\n",
    "from sklearn.tree import DecisionTreeClassifier\n",
    "from sklearn.neighbors import KNeighborsClassifier\n",
    "from sklearn.metrics import accuracy_score,confusion_matrix, ConfusionMatrixDisplay"
   ]
  },
  {
   "cell_type": "code",
   "execution_count": 107,
   "id": "61377af8",
   "metadata": {},
   "outputs": [],
   "source": [
    "#split the data to X and y\n",
    "X = churn_data.drop(['Churn','customerID'], axis=1)\n",
    "y = churn_data['Churn']"
   ]
  },
  {
   "cell_type": "code",
   "execution_count": 108,
   "id": "5e2ebcf6",
   "metadata": {},
   "outputs": [],
   "source": [
    "#Using the train_test_split() function to split our data into training and test sets. I will use 70% of our data for training our model and 30% for testing our model.\n",
    "X_train,X_test,y_train,y_test = train_test_split(X,y,test_size=0.3,random_state=0)"
   ]
  },
  {
   "cell_type": "code",
   "execution_count": 109,
   "id": "02f9aa89",
   "metadata": {},
   "outputs": [
    {
     "data": {
      "text/plain": [
       "((4922, 24), (4922,), (2110, 24), (2110,))"
      ]
     },
     "execution_count": 109,
     "metadata": {},
     "output_type": "execute_result"
    }
   ],
   "source": [
    "X_train.shape,y_train.shape,X_test.shape,y_test.shape"
   ]
  },
  {
   "cell_type": "markdown",
   "id": "dca040ea",
   "metadata": {},
   "source": [
    "#### We have successfully splited our data into 70% and 30%. Now its time to predict using different algorithms."
   ]
  },
  {
   "cell_type": "markdown",
   "id": "923e0dd9",
   "metadata": {},
   "source": [
    "### 1. Logistic Regression"
   ]
  },
  {
   "cell_type": "code",
   "execution_count": 110,
   "id": "b59b535f",
   "metadata": {},
   "outputs": [
    {
     "data": {
      "text/html": [
       "<style>#sk-container-id-1 {color: black;background-color: white;}#sk-container-id-1 pre{padding: 0;}#sk-container-id-1 div.sk-toggleable {background-color: white;}#sk-container-id-1 label.sk-toggleable__label {cursor: pointer;display: block;width: 100%;margin-bottom: 0;padding: 0.3em;box-sizing: border-box;text-align: center;}#sk-container-id-1 label.sk-toggleable__label-arrow:before {content: \"▸\";float: left;margin-right: 0.25em;color: #696969;}#sk-container-id-1 label.sk-toggleable__label-arrow:hover:before {color: black;}#sk-container-id-1 div.sk-estimator:hover label.sk-toggleable__label-arrow:before {color: black;}#sk-container-id-1 div.sk-toggleable__content {max-height: 0;max-width: 0;overflow: hidden;text-align: left;background-color: #f0f8ff;}#sk-container-id-1 div.sk-toggleable__content pre {margin: 0.2em;color: black;border-radius: 0.25em;background-color: #f0f8ff;}#sk-container-id-1 input.sk-toggleable__control:checked~div.sk-toggleable__content {max-height: 200px;max-width: 100%;overflow: auto;}#sk-container-id-1 input.sk-toggleable__control:checked~label.sk-toggleable__label-arrow:before {content: \"▾\";}#sk-container-id-1 div.sk-estimator input.sk-toggleable__control:checked~label.sk-toggleable__label {background-color: #d4ebff;}#sk-container-id-1 div.sk-label input.sk-toggleable__control:checked~label.sk-toggleable__label {background-color: #d4ebff;}#sk-container-id-1 input.sk-hidden--visually {border: 0;clip: rect(1px 1px 1px 1px);clip: rect(1px, 1px, 1px, 1px);height: 1px;margin: -1px;overflow: hidden;padding: 0;position: absolute;width: 1px;}#sk-container-id-1 div.sk-estimator {font-family: monospace;background-color: #f0f8ff;border: 1px dotted black;border-radius: 0.25em;box-sizing: border-box;margin-bottom: 0.5em;}#sk-container-id-1 div.sk-estimator:hover {background-color: #d4ebff;}#sk-container-id-1 div.sk-parallel-item::after {content: \"\";width: 100%;border-bottom: 1px solid gray;flex-grow: 1;}#sk-container-id-1 div.sk-label:hover label.sk-toggleable__label {background-color: #d4ebff;}#sk-container-id-1 div.sk-serial::before {content: \"\";position: absolute;border-left: 1px solid gray;box-sizing: border-box;top: 0;bottom: 0;left: 50%;z-index: 0;}#sk-container-id-1 div.sk-serial {display: flex;flex-direction: column;align-items: center;background-color: white;padding-right: 0.2em;padding-left: 0.2em;position: relative;}#sk-container-id-1 div.sk-item {position: relative;z-index: 1;}#sk-container-id-1 div.sk-parallel {display: flex;align-items: stretch;justify-content: center;background-color: white;position: relative;}#sk-container-id-1 div.sk-item::before, #sk-container-id-1 div.sk-parallel-item::before {content: \"\";position: absolute;border-left: 1px solid gray;box-sizing: border-box;top: 0;bottom: 0;left: 50%;z-index: -1;}#sk-container-id-1 div.sk-parallel-item {display: flex;flex-direction: column;z-index: 1;position: relative;background-color: white;}#sk-container-id-1 div.sk-parallel-item:first-child::after {align-self: flex-end;width: 50%;}#sk-container-id-1 div.sk-parallel-item:last-child::after {align-self: flex-start;width: 50%;}#sk-container-id-1 div.sk-parallel-item:only-child::after {width: 0;}#sk-container-id-1 div.sk-dashed-wrapped {border: 1px dashed gray;margin: 0 0.4em 0.5em 0.4em;box-sizing: border-box;padding-bottom: 0.4em;background-color: white;}#sk-container-id-1 div.sk-label label {font-family: monospace;font-weight: bold;display: inline-block;line-height: 1.2em;}#sk-container-id-1 div.sk-label-container {text-align: center;}#sk-container-id-1 div.sk-container {/* jupyter's `normalize.less` sets `[hidden] { display: none; }` but bootstrap.min.css set `[hidden] { display: none !important; }` so we also need the `!important` here to be able to override the default hidden behavior on the sphinx rendered scikit-learn.org. See: https://github.com/scikit-learn/scikit-learn/issues/21755 */display: inline-block !important;position: relative;}#sk-container-id-1 div.sk-text-repr-fallback {display: none;}</style><div id=\"sk-container-id-1\" class=\"sk-top-container\"><div class=\"sk-text-repr-fallback\"><pre>LogisticRegression()</pre><b>In a Jupyter environment, please rerun this cell to show the HTML representation or trust the notebook. <br />On GitHub, the HTML representation is unable to render, please try loading this page with nbviewer.org.</b></div><div class=\"sk-container\" hidden><div class=\"sk-item\"><div class=\"sk-estimator sk-toggleable\"><input class=\"sk-toggleable__control sk-hidden--visually\" id=\"sk-estimator-id-1\" type=\"checkbox\" checked><label for=\"sk-estimator-id-1\" class=\"sk-toggleable__label sk-toggleable__label-arrow\">LogisticRegression</label><div class=\"sk-toggleable__content\"><pre>LogisticRegression()</pre></div></div></div></div></div>"
      ],
      "text/plain": [
       "LogisticRegression()"
      ]
     },
     "execution_count": 110,
     "metadata": {},
     "output_type": "execute_result"
    }
   ],
   "source": [
    "log=LogisticRegression()\n",
    "log.fit(X_train, y_train)"
   ]
  },
  {
   "cell_type": "code",
   "execution_count": 111,
   "id": "8a247e27",
   "metadata": {},
   "outputs": [],
   "source": [
    "y_pred = log.predict(X_test)"
   ]
  },
  {
   "cell_type": "code",
   "execution_count": 114,
   "id": "9ad436a9",
   "metadata": {},
   "outputs": [
    {
     "name": "stdout",
     "output_type": "stream",
     "text": [
      "Accuracy of Logistic Regression 80.0%\n"
     ]
    }
   ],
   "source": [
    "print(f'Accuracy of Logistic Regression {accuracy_score(y_pred, y_test)*100}%')"
   ]
  },
  {
   "cell_type": "markdown",
   "id": "5f9fbc22",
   "metadata": {},
   "source": [
    "### 2. Random Forest"
   ]
  },
  {
   "cell_type": "code",
   "execution_count": 115,
   "id": "f660e77a",
   "metadata": {},
   "outputs": [],
   "source": [
    "#using random forest classifier\n",
    "rand = RandomForestClassifier()\n",
    "\n",
    "#fitting the data\n",
    "rand.fit(X_train,y_train)\n",
    "\n",
    "#predicting values\n",
    "y_rand_pred = rand.predict(X_test)"
   ]
  },
  {
   "cell_type": "code",
   "execution_count": 116,
   "id": "b1314eae",
   "metadata": {},
   "outputs": [
    {
     "name": "stdout",
     "output_type": "stream",
     "text": [
      "The accuracy score of Random Forest is: 78.34% \n"
     ]
    }
   ],
   "source": [
    "print(\"The accuracy score of Random Forest is: {:.2f}% \".format(accuracy_score(y_rand_pred,y_test)*100))"
   ]
  },
  {
   "cell_type": "markdown",
   "id": "5f4421c4",
   "metadata": {},
   "source": [
    "### 3. Support Vector Machine"
   ]
  },
  {
   "cell_type": "code",
   "execution_count": 117,
   "id": "cea723a6",
   "metadata": {},
   "outputs": [],
   "source": [
    "#using support vector machine\n",
    "svm_model = SVC(kernel='linear',probability=True)\n",
    "\n",
    "#fitting our data\n",
    "svm_model.fit(X_train,y_train)\n",
    "\n",
    "#predicting values\n",
    "y_svm_pred = svm_model.predict(X_test)\n",
    "#svm_model.score(X_test,y_test)"
   ]
  },
  {
   "cell_type": "code",
   "execution_count": 118,
   "id": "a3bb4768",
   "metadata": {},
   "outputs": [
    {
     "name": "stdout",
     "output_type": "stream",
     "text": [
      "The accuracy score of Support Vector Machine is: 80.33% \n"
     ]
    }
   ],
   "source": [
    "print(\"The accuracy score of Support Vector Machine is: {:.2f}% \".format(accuracy_score(y_svm_pred,y_test)*100))"
   ]
  },
  {
   "cell_type": "markdown",
   "id": "05d6b424",
   "metadata": {},
   "source": [
    "### 4. Decision Tree"
   ]
  },
  {
   "cell_type": "code",
   "execution_count": 119,
   "id": "efd4d8c2",
   "metadata": {},
   "outputs": [],
   "source": [
    "#using decision tree classifier\n",
    "dec = DecisionTreeClassifier()\n",
    "\n",
    "#fitting our data\n",
    "dec.fit(X_train,y_train)\n",
    "\n",
    "#predicting the values\n",
    "y_dec_pred = dec.predict(X_test)"
   ]
  },
  {
   "cell_type": "code",
   "execution_count": 120,
   "id": "69683b47",
   "metadata": {},
   "outputs": [
    {
     "name": "stdout",
     "output_type": "stream",
     "text": [
      "The accuracy score of Decision Tree is: 71.09% \n"
     ]
    }
   ],
   "source": [
    "print(\"The accuracy score of Decision Tree is: {:.2f}% \".format(accuracy_score(y_dec_pred,y_test)*100))"
   ]
  },
  {
   "cell_type": "markdown",
   "id": "b7910442",
   "metadata": {},
   "source": [
    "### 5. K-Nearest Neighbor"
   ]
  },
  {
   "cell_type": "code",
   "execution_count": 122,
   "id": "e3f3c596",
   "metadata": {},
   "outputs": [],
   "source": [
    "#using knearestneighbor\n",
    "knn = KNeighborsClassifier()\n",
    "\n",
    "#fitting our data\n",
    "knn.fit(X_train,y_train)\n",
    "\n",
    "#predicting the values.\n",
    "y_knn_pred = knn.predict(X_test)"
   ]
  },
  {
   "cell_type": "code",
   "execution_count": 123,
   "id": "26023fdc",
   "metadata": {},
   "outputs": [
    {
     "name": "stdout",
     "output_type": "stream",
     "text": [
      "The accuracy score of K-Nearest Neighbor is: 76.21% \n"
     ]
    }
   ],
   "source": [
    "print(\"The accuracy score of K-Nearest Neighbor is: {:.2f}% \".format(accuracy_score(y_knn_pred,y_test)*100))"
   ]
  },
  {
   "cell_type": "markdown",
   "id": "e5853769",
   "metadata": {},
   "source": [
    "#### Based on above alogothims, here we can see that logistic regression and Support vector machine performs better as compared to other."
   ]
  },
  {
   "cell_type": "markdown",
   "id": "3ec1f975",
   "metadata": {},
   "source": [
    "## Confusion Matrix: \n",
    "#### So lets plot the confucion matrix for each of our model to see how well they perform. "
   ]
  },
  {
   "cell_type": "code",
   "execution_count": 127,
   "id": "b9212a3f",
   "metadata": {},
   "outputs": [
    {
     "name": "stdout",
     "output_type": "stream",
     "text": [
      "Logistic Regression Model\n"
     ]
    },
    {
     "data": {
      "text/plain": [
       "<sklearn.metrics._plot.confusion_matrix.ConfusionMatrixDisplay at 0x2252294d5e0>"
      ]
     },
     "execution_count": 127,
     "metadata": {},
     "output_type": "execute_result"
    },
    {
     "data": {
      "image/png": "[encoded data removed]",
      "text/plain": [
       "<Figure size 640x480 with 2 Axes>"
      ]
     },
     "metadata": {},
     "output_type": "display_data"
    }
   ],
   "source": [
    "print('Logistic Regression Model')\n",
    "cm_log=confusion_matrix(y_test, y_pred)\n",
    "dis_log=ConfusionMatrixDisplay(confusion_matrix=cm_log)\n",
    "dis_log.plot()"
   ]
  },
  {
   "cell_type": "code",
   "execution_count": 129,
   "id": "01bdd8cf",
   "metadata": {},
   "outputs": [
    {
     "name": "stdout",
     "output_type": "stream",
     "text": [
      "Random Forest Model\n"
     ]
    },
    {
     "data": {
      "text/plain": [
       "<sklearn.metrics._plot.confusion_matrix.ConfusionMatrixDisplay at 0x22522912700>"
      ]
     },
     "execution_count": 129,
     "metadata": {},
     "output_type": "execute_result"
    },
    {
     "data": {
      "image/png": "[encoded data removed]",
      "text/plain": [
       "<Figure size 640x480 with 2 Axes>"
      ]
     },
     "metadata": {},
     "output_type": "display_data"
    }
   ],
   "source": [
    "print('Random Forest Model')\n",
    "cm_rand=confusion_matrix(y_test, y_rand_pred)\n",
    "dis_rand=ConfusionMatrixDisplay(confusion_matrix=cm_rand)\n",
    "dis_rand.plot()"
   ]
  },
  {
   "cell_type": "code",
   "execution_count": 130,
   "id": "01390b4e",
   "metadata": {},
   "outputs": [
    {
     "name": "stdout",
     "output_type": "stream",
     "text": [
      "Support Vector Machine Model\n"
     ]
    },
    {
     "data": {
      "text/plain": [
       "<sklearn.metrics._plot.confusion_matrix.ConfusionMatrixDisplay at 0x2252084b070>"
      ]
     },
     "execution_count": 130,
     "metadata": {},
     "output_type": "execute_result"
    },
    {
     "data": {
      "image/png": "[encoded data removed]",
      "text/plain": [
       "<Figure size 640x480 with 2 Axes>"
      ]
     },
     "metadata": {},
     "output_type": "display_data"
    }
   ],
   "source": [
    "print('Support Vector Machine Model')\n",
    "cm_svm=confusion_matrix(y_test, y_svm_pred)\n",
    "dis_svm=ConfusionMatrixDisplay(confusion_matrix=cm_svm)\n",
    "dis_svm.plot()"
   ]
  },
  {
   "cell_type": "code",
   "execution_count": 131,
   "id": "c4614922",
   "metadata": {},
   "outputs": [
    {
     "name": "stdout",
     "output_type": "stream",
     "text": [
      "Decision Tree Model\n"
     ]
    },
    {
     "data": {
      "text/plain": [
       "<sklearn.metrics._plot.confusion_matrix.ConfusionMatrixDisplay at 0x22521e9e0a0>"
      ]
     },
     "execution_count": 131,
     "metadata": {},
     "output_type": "execute_result"
    },
    {
     "data": {
      "image/png": "[encoded data removed]",
      "text/plain": [
       "<Figure size 640x480 with 2 Axes>"
      ]
     },
     "metadata": {},
     "output_type": "display_data"
    }
   ],
   "source": [
    "print('Decision Tree Model')\n",
    "cm_dec=confusion_matrix(y_test, y_dec_pred)\n",
    "dis_dec=ConfusionMatrixDisplay(confusion_matrix=cm_dec)\n",
    "dis_dec.plot()"
   ]
  },
  {
   "cell_type": "code",
   "execution_count": 132,
   "id": "14c914a8",
   "metadata": {},
   "outputs": [
    {
     "name": "stdout",
     "output_type": "stream",
     "text": [
      "KNN Model\n"
     ]
    },
    {
     "data": {
      "text/plain": [
       "<sklearn.metrics._plot.confusion_matrix.ConfusionMatrixDisplay at 0x2251d952b80>"
      ]
     },
     "execution_count": 132,
     "metadata": {},
     "output_type": "execute_result"
    },
    {
     "data": {
      "image/png": "[encoded data removed]",
      "text/plain": [
       "<Figure size 640x480 with 2 Axes>"
      ]
     },
     "metadata": {},
     "output_type": "display_data"
    }
   ],
   "source": [
    "print('KNN Model')\n",
    "cm_knn=confusion_matrix(y_test, y_knn_pred)\n",
    "dis_knn=ConfusionMatrixDisplay(confusion_matrix=cm_knn)\n",
    "dis_knn.plot()"
   ]
  },
  {
   "cell_type": "markdown",
   "id": "19df0d6e",
   "metadata": {},
   "source": [
    "### Let's predict the probability of churn for each customer using logistic regression model."
   ]
  },
  {
   "cell_type": "code",
   "execution_count": 133,
   "id": "416c83f1",
   "metadata": {},
   "outputs": [],
   "source": [
    "# Predict the probability of Churn of each customer\n",
    "churn_data['Customer Churning Probability'] = log.predict_proba(churn_data[X_test.columns])[:,1]"
   ]
  },
  {
   "cell_type": "markdown",
   "id": "0c5c0530",
   "metadata": {},
   "source": [
    "#### Here I have created a new column in our dataset named Customer Churning Probability."
   ]
  },
  {
   "cell_type": "code",
   "execution_count": 134,
   "id": "147eca29",
   "metadata": {},
   "outputs": [
    {
     "data": {
      "text/html": [
       "<div>\n",
       "<style scoped>\n",
       "    .dataframe tbody tr th:only-of-type {\n",
       "        vertical-align: middle;\n",
       "    }\n",
       "\n",
       "    .dataframe tbody tr th {\n",
       "        vertical-align: top;\n",
       "    }\n",
       "\n",
       "    .dataframe thead th {\n",
       "        text-align: right;\n",
       "    }\n",
       "</style>\n",
       "<table border=\"1\" class=\"dataframe\">\n",
       "  <thead>\n",
       "    <tr style=\"text-align: right;\">\n",
       "      <th></th>\n",
       "      <th>customerID</th>\n",
       "      <th>Customer Churning Probability</th>\n",
       "    </tr>\n",
       "  </thead>\n",
       "  <tbody>\n",
       "    <tr>\n",
       "      <th>0</th>\n",
       "      <td>7590-VHVEG</td>\n",
       "      <td>0.637171</td>\n",
       "    </tr>\n",
       "    <tr>\n",
       "      <th>1</th>\n",
       "      <td>5575-GNVDE</td>\n",
       "      <td>0.045044</td>\n",
       "    </tr>\n",
       "    <tr>\n",
       "      <th>2</th>\n",
       "      <td>3668-QPYBK</td>\n",
       "      <td>0.295285</td>\n",
       "    </tr>\n",
       "    <tr>\n",
       "      <th>3</th>\n",
       "      <td>7795-CFOCW</td>\n",
       "      <td>0.032217</td>\n",
       "    </tr>\n",
       "    <tr>\n",
       "      <th>4</th>\n",
       "      <td>9237-HQITU</td>\n",
       "      <td>0.690221</td>\n",
       "    </tr>\n",
       "    <tr>\n",
       "      <th>5</th>\n",
       "      <td>9305-CDSKC</td>\n",
       "      <td>0.802503</td>\n",
       "    </tr>\n",
       "    <tr>\n",
       "      <th>6</th>\n",
       "      <td>1452-KIOVK</td>\n",
       "      <td>0.398117</td>\n",
       "    </tr>\n",
       "    <tr>\n",
       "      <th>7</th>\n",
       "      <td>6713-OKOMC</td>\n",
       "      <td>0.284159</td>\n",
       "    </tr>\n",
       "    <tr>\n",
       "      <th>8</th>\n",
       "      <td>7892-POOKP</td>\n",
       "      <td>0.635197</td>\n",
       "    </tr>\n",
       "    <tr>\n",
       "      <th>9</th>\n",
       "      <td>6388-TABGU</td>\n",
       "      <td>0.008962</td>\n",
       "    </tr>\n",
       "  </tbody>\n",
       "</table>\n",
       "</div>"
      ],
      "text/plain": [
       "   customerID  Customer Churning Probability\n",
       "0  7590-VHVEG                       0.637171\n",
       "1  5575-GNVDE                       0.045044\n",
       "2  3668-QPYBK                       0.295285\n",
       "3  7795-CFOCW                       0.032217\n",
       "4  9237-HQITU                       0.690221\n",
       "5  9305-CDSKC                       0.802503\n",
       "6  1452-KIOVK                       0.398117\n",
       "7  6713-OKOMC                       0.284159\n",
       "8  7892-POOKP                       0.635197\n",
       "9  6388-TABGU                       0.008962"
      ]
     },
     "execution_count": 134,
     "metadata": {},
     "output_type": "execute_result"
    }
   ],
   "source": [
    "churn_data[['customerID','Customer Churning Probability']].head(10)"
   ]
  },
  {
   "cell_type": "markdown",
   "id": "e58491d5",
   "metadata": {},
   "source": [
    "#### Here, we can clearly see the probability of customer whether they churn or not."
   ]
  },
  {
   "cell_type": "code",
   "execution_count": null,
   "id": "76349598",
   "metadata": {},
   "outputs": [],
   "source": []
  }
 ],
 "metadata": {
  "kernelspec": {
   "display_name": "Python 3 (ipykernel)",
   "language": "python",
   "name": "python3"
  },
  "language_info": {
   "codemirror_mode": {
    "name": "ipython",
    "version": 3
   },
   "file_extension": ".py",
   "mimetype": "text/x-python",
   "name": "python",
   "nbconvert_exporter": "python",
   "pygments_lexer": "ipython3",
   "version": "3.9.12"
  }
 },
 "nbformat": 4,
 "nbformat_minor": 5
}
